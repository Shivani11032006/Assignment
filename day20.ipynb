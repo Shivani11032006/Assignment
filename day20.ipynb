{
  "nbformat": 4,
  "nbformat_minor": 0,
  "metadata": {
    "colab": {
      "provenance": [],
      "authorship_tag": "ABX9TyN5ZoFD8MRsHJDwE5mtdUPL",
      "include_colab_link": true
    },
    "kernelspec": {
      "name": "python3",
      "display_name": "Python 3"
    },
    "language_info": {
      "name": "python"
    }
  },
  "cells": [
    {
      "cell_type": "markdown",
      "metadata": {
        "id": "view-in-github",
        "colab_type": "text"
      },
      "source": [
        "<a href=\"https://colab.research.google.com/github/Shivani11032006/Assignment/blob/main/day20.ipynb\" target=\"_parent\"><img src=\"https://colab.research.google.com/assets/colab-badge.svg\" alt=\"Open In Colab\"/></a>"
      ]
    },
    {
      "cell_type": "code",
      "execution_count": 5,
      "metadata": {
        "colab": {
          "base_uri": "https://localhost:8080/",
          "height": 1000
        },
        "id": "mpbCHQ-RdFCR",
        "outputId": "aa94850c-c6b5-4fe5-f6bc-bbf30f40d983"
      },
      "outputs": [
        {
          "output_type": "stream",
          "name": "stdout",
          "text": [
            "Dataset Info:\n",
            "<class 'pandas.core.frame.DataFrame'>\n",
            "RangeIndex: 505 entries, 0 to 504\n",
            "Data columns (total 7 columns):\n",
            " #   Column            Non-Null Count  Dtype  \n",
            "---  ------            --------------  -----  \n",
            " 0   Order_ID          505 non-null    int64  \n",
            " 1   Product_Category  481 non-null    object \n",
            " 2   Product_Price     485 non-null    float64\n",
            " 3   Customer_Age      490 non-null    float64\n",
            " 4   Rating            480 non-null    float64\n",
            " 5   Review_Text       484 non-null    object \n",
            " 6   Order_Date        495 non-null    object \n",
            "dtypes: float64(3), int64(1), object(3)\n",
            "memory usage: 27.7+ KB\n",
            "\n",
            "Summary Statistics:\n",
            "         Order_ID  Product_Price  Customer_Age      Rating\n",
            "count  505.000000     485.000000    490.000000  480.000000\n",
            "mean   249.899010    2441.872165     42.144898    3.197917\n",
            "std    144.769438    1415.869769     14.901086    1.145198\n",
            "min      1.000000     108.000000     18.000000    1.000000\n",
            "25%    124.000000    1240.000000     30.000000    2.000000\n",
            "50%    250.000000    2464.000000     41.000000    3.000000\n",
            "75%    375.000000    3622.000000     55.000000    4.000000\n",
            "max    500.000000    4993.000000     69.000000    5.000000\n",
            "\n",
            "Missing Values:\n",
            "Order_ID             0\n",
            "Product_Category    24\n",
            "Product_Price       20\n",
            "Customer_Age        15\n",
            "Rating              25\n",
            "Review_Text         21\n",
            "Order_Date          10\n",
            "dtype: int64\n",
            "\n",
            "Percentage of Missing Values:\n",
            "Order_ID            0.000000\n",
            "Product_Category    4.752475\n",
            "Product_Price       3.960396\n",
            "Customer_Age        2.970297\n",
            "Rating              4.950495\n",
            "Review_Text         4.158416\n",
            "Order_Date          1.980198\n",
            "dtype: float64\n"
          ]
        },
        {
          "output_type": "display_data",
          "data": {
            "text/plain": [
              "<Figure size 1000x600 with 1 Axes>"
            ],
            "image/png": "[encoded data removed]"
          },
          "metadata": {}
        },
        {
          "output_type": "stream",
          "name": "stdout",
          "text": [
            "\n",
            "Final Missing Values:\n",
            "Order_ID             0\n",
            "Product_Category     0\n",
            "Product_Price       20\n",
            "Customer_Age         0\n",
            "Rating               0\n",
            "Review_Text          0\n",
            "Order_Date           0\n",
            "dtype: int64\n",
            "\n",
            "Final Duplicates: 0\n",
            "\n",
            "Data Types:\n",
            "Order_ID              int64\n",
            "Product_Category      int64\n",
            "Product_Price       float64\n",
            "Customer_Age        float64\n",
            "Rating              float64\n",
            "Review_Text           int64\n",
            "Order_Date            int64\n",
            "dtype: object\n",
            "\n",
            "Data Cleaning Completed. Cleaned dataset saved.\n"
          ]
        },
        {
          "output_type": "stream",
          "name": "stderr",
          "text": [
            "<ipython-input-5-3ae662c37992>:32: FutureWarning: A value is trying to be set on a copy of a DataFrame or Series through chained assignment using an inplace method.\n",
            "The behavior will change in pandas 3.0. This inplace method will never work because the intermediate object on which we are setting values always behaves as a copy.\n",
            "\n",
            "For example, when doing 'df[col].method(value, inplace=True)', try using 'df.method({col: value}, inplace=True)' or df[col] = df[col].method(value) instead, to perform the operation inplace on the original object.\n",
            "\n",
            "\n",
            "  df['Rating'].fillna(df['Rating'].median(), inplace=True)\n",
            "<ipython-input-5-3ae662c37992>:35: FutureWarning: A value is trying to be set on a copy of a DataFrame or Series through chained assignment using an inplace method.\n",
            "The behavior will change in pandas 3.0. This inplace method will never work because the intermediate object on which we are setting values always behaves as a copy.\n",
            "\n",
            "For example, when doing 'df[col].method(value, inplace=True)', try using 'df.method({col: value}, inplace=True)' or df[col] = df[col].method(value) instead, to perform the operation inplace on the original object.\n",
            "\n",
            "\n",
            "  df['Customer_Age'].fillna(df['Customer_Age'].median(), inplace=True)\n",
            "<ipython-input-5-3ae662c37992>:38: FutureWarning: A value is trying to be set on a copy of a DataFrame or Series through chained assignment using an inplace method.\n",
            "The behavior will change in pandas 3.0. This inplace method will never work because the intermediate object on which we are setting values always behaves as a copy.\n",
            "\n",
            "For example, when doing 'df[col].method(value, inplace=True)', try using 'df.method({col: value}, inplace=True)' or df[col] = df[col].method(value) instead, to perform the operation inplace on the original object.\n",
            "\n",
            "\n",
            "  df['Review_Text'].fillna(\"No Review\", inplace=True)\n"
          ]
        }
      ],
      "source": [
        "import pandas as pd\n",
        "import numpy as np\n",
        "import seaborn as sns\n",
        "import matplotlib.pyplot as plt\n",
        "from sklearn.impute import KNNImputer\n",
        "from sklearn.preprocessing import MinMaxScaler, LabelEncoder\n",
        "\n",
        "# Load the dataset\n",
        "df = pd.read_csv(\"/content/Day 20_E-Commerce_Data.csv\")  # Replace with actual file path\n",
        "\n",
        "# Initial Exploratory Data Analysis\n",
        "print(\"Dataset Info:\")\n",
        "df.info()\n",
        "print(\"\\nSummary Statistics:\")\n",
        "print(df.describe())\n",
        "print(\"\\nMissing Values:\")\n",
        "print(df.isna().sum())\n",
        "\n",
        "# Compute percentage of missing values\n",
        "missing_percentage = (df.isna().sum() / len(df)) * 100\n",
        "print(\"\\nPercentage of Missing Values:\")\n",
        "print(missing_percentage)\n",
        "\n",
        "# Visualize missing data\n",
        "plt.figure(figsize=(10, 6))\n",
        "sns.heatmap(df.isna(), cmap='viridis', cbar=False, yticklabels=False)\n",
        "plt.title(\"Missing Data Heatmap\")\n",
        "plt.show()\n",
        "\n",
        "# Handling Missing Data\n",
        "if 'Rating' in df.columns:\n",
        "    df['Rating'].fillna(df['Rating'].median(), inplace=True)\n",
        "\n",
        "if 'Customer_Age' in df.columns:\n",
        "    df['Customer_Age'].fillna(df['Customer_Age'].median(), inplace=True)\n",
        "\n",
        "if 'Review_Text' in df.columns:\n",
        "    df['Review_Text'].fillna(\"No Review\", inplace=True)\n",
        "\n",
        "# Detect and Remove Duplicates\n",
        "df.drop_duplicates(inplace=True)\n",
        "\n",
        "# Handle Inconsistent Data\n",
        "if 'Rating' in df.columns:\n",
        "    df['Rating'] = df['Rating'].clip(1, 5)  # Standardize Ratings to range 1-5\n",
        "\n",
        "# Detect and Handle Outliers\n",
        "for col in ['Product_Price', 'Rating']:\n",
        "    if col in df.columns:\n",
        "        q1 = df[col].quantile(0.25)\n",
        "        q3 = df[col].quantile(0.75)\n",
        "        iqr = q3 - q1\n",
        "        lower_bound = q1 - 1.5 * iqr\n",
        "        upper_bound = q3 + 1.5 * iqr\n",
        "        df[col] = np.where(df[col] < lower_bound, lower_bound, df[col])\n",
        "        df[col] = np.where(df[col] > upper_bound, upper_bound, df[col])\n",
        "\n",
        "# Standardize and Normalize Data\n",
        "scaler = MinMaxScaler()\n",
        "for col in ['Product_Price', 'Customer_Age']:\n",
        "    if col in df.columns:\n",
        "        df[[col]] = scaler.fit_transform(df[[col]])\n",
        "\n",
        "# Convert categorical variables to numerical\n",
        "encoder = LabelEncoder()\n",
        "categorical_cols = df.select_dtypes(include=['object']).columns\n",
        "for col in categorical_cols:\n",
        "    df[col] = encoder.fit_transform(df[col])\n",
        "\n",
        "# Data Validation\n",
        "print(\"\\nFinal Missing Values:\")\n",
        "print(df.isna().sum())\n",
        "print(\"\\nFinal Duplicates:\", df.duplicated().sum())\n",
        "print(\"\\nData Types:\")\n",
        "print(df.dtypes)\n",
        "\n",
        "# Save the cleaned dataset\n",
        "df.to_csv(\"cleaned_ecommerce_reviews.csv\", index=False)\n",
        "\n",
        "print(\"\\nData Cleaning Completed. Cleaned dataset saved.\")\n"
      ]
    },
    {
      "cell_type": "code",
      "source": [],
      "metadata": {
        "id": "TxJbrcdadjrE"
      },
      "execution_count": null,
      "outputs": []
    }
  ]
}