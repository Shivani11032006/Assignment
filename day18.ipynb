{
  "nbformat": 4,
  "nbformat_minor": 0,
  "metadata": {
    "colab": {
      "provenance": [],
      "authorship_tag": "ABX9TyMwD4TJhtyS1io1Y2iK437u",
      "include_colab_link": true
    },
    "kernelspec": {
      "name": "python3",
      "display_name": "Python 3"
    },
    "language_info": {
      "name": "python"
    }
  },
  "cells": [
    {
      "cell_type": "markdown",
      "metadata": {
        "id": "view-in-github",
        "colab_type": "text"
      },
      "source": [
        "<a href=\"https://colab.research.google.com/github/Shivani11032006/Assignment/blob/main/day18.ipynb\" target=\"_parent\"><img src=\"https://colab.research.google.com/assets/colab-badge.svg\" alt=\"Open In Colab\"/></a>"
      ]
    },
    {
      "cell_type": "code",
      "execution_count": 2,
      "metadata": {
        "colab": {
          "base_uri": "https://localhost:8080/"
        },
        "id": "mpbCHQ-RdFCR",
        "outputId": "ee6d0b98-899f-4bf8-d187-e3920e9cf828"
      },
      "outputs": [
        {
          "output_type": "stream",
          "name": "stdout",
          "text": [
            "Dataset Info:\n",
            "<class 'pandas.core.frame.DataFrame'>\n",
            "RangeIndex: 505 entries, 0 to 504\n",
            "Data columns (total 7 columns):\n",
            " #   Column         Non-Null Count  Dtype  \n",
            "---  ------         --------------  -----  \n",
            " 0   Booking_ID     505 non-null    int64  \n",
            " 1   Destination    478 non-null    object \n",
            " 2   Package_Price  485 non-null    float64\n",
            " 3   Customer_Age   490 non-null    float64\n",
            " 4   Rating         480 non-null    float64\n",
            " 5   Review_Text    485 non-null    object \n",
            " 6   Travel_Date    495 non-null    object \n",
            "dtypes: float64(3), int64(1), object(3)\n",
            "memory usage: 27.7+ KB\n",
            "\n",
            "Summary Statistics:\n",
            "       Booking_ID  Package_Price  Customer_Age      Rating\n",
            "count  505.000000     485.000000    490.000000  480.000000\n",
            "mean   251.774257    2769.338144     42.934694    3.116667\n",
            "std    144.804413    1287.538771     15.255956    1.129844\n",
            "min      1.000000     500.000000     18.000000    1.000000\n",
            "25%    127.000000    1658.000000     30.000000    2.000000\n",
            "50%    252.000000    2802.000000     42.000000    3.000000\n",
            "75%    378.000000    3890.000000     56.000000    4.000000\n",
            "max    500.000000    4993.000000     69.000000    5.000000\n",
            "\n",
            "Missing Values:\n",
            "Booking_ID        0\n",
            "Destination      27\n",
            "Package_Price    20\n",
            "Customer_Age     15\n",
            "Rating           25\n",
            "Review_Text      20\n",
            "Travel_Date      10\n",
            "dtype: int64\n",
            "\n",
            "Final Missing Values:\n",
            "Booking_ID        0\n",
            "Destination       0\n",
            "Package_Price    20\n",
            "Customer_Age      0\n",
            "Rating            0\n",
            "Review_Text       0\n",
            "Travel_Date       0\n",
            "dtype: int64\n",
            "\n",
            "Final Duplicates: 0\n",
            "\n",
            "Data Types:\n",
            "Booking_ID         int64\n",
            "Destination        int64\n",
            "Package_Price    float64\n",
            "Customer_Age     float64\n",
            "Rating           float64\n",
            "Review_Text        int64\n",
            "Travel_Date        int64\n",
            "dtype: object\n"
          ]
        },
        {
          "output_type": "stream",
          "name": "stderr",
          "text": [
            "<ipython-input-2-4324915248bc>:20: FutureWarning: A value is trying to be set on a copy of a DataFrame or Series through chained assignment using an inplace method.\n",
            "The behavior will change in pandas 3.0. This inplace method will never work because the intermediate object on which we are setting values always behaves as a copy.\n",
            "\n",
            "For example, when doing 'df[col].method(value, inplace=True)', try using 'df.method({col: value}, inplace=True)' or df[col] = df[col].method(value) instead, to perform the operation inplace on the original object.\n",
            "\n",
            "\n",
            "  df['Rating'].fillna(df['Rating'].median(), inplace=True)\n",
            "<ipython-input-2-4324915248bc>:21: FutureWarning: A value is trying to be set on a copy of a DataFrame or Series through chained assignment using an inplace method.\n",
            "The behavior will change in pandas 3.0. This inplace method will never work because the intermediate object on which we are setting values always behaves as a copy.\n",
            "\n",
            "For example, when doing 'df[col].method(value, inplace=True)', try using 'df.method({col: value}, inplace=True)' or df[col] = df[col].method(value) instead, to perform the operation inplace on the original object.\n",
            "\n",
            "\n",
            "  df['Customer_Age'].fillna(df['Customer_Age'].median(), inplace=True)\n",
            "<ipython-input-2-4324915248bc>:22: FutureWarning: A value is trying to be set on a copy of a DataFrame or Series through chained assignment using an inplace method.\n",
            "The behavior will change in pandas 3.0. This inplace method will never work because the intermediate object on which we are setting values always behaves as a copy.\n",
            "\n",
            "For example, when doing 'df[col].method(value, inplace=True)', try using 'df.method({col: value}, inplace=True)' or df[col] = df[col].method(value) instead, to perform the operation inplace on the original object.\n",
            "\n",
            "\n",
            "  df['Review_Text'].fillna(\"No Review\", inplace=True)\n"
          ]
        }
      ],
      "source": [
        "import pandas as pd\n",
        "import numpy as np\n",
        "import seaborn as sns\n",
        "import matplotlib.pyplot as plt\n",
        "from sklearn.impute import KNNImputer\n",
        "from sklearn.preprocessing import MinMaxScaler, LabelEncoder\n",
        "\n",
        "# Load the dataset\n",
        "df = pd.read_csv(\"Day_18_Tours_and_Travels.csv\")  # Replace with actual file path\n",
        "\n",
        "# Initial Exploratory Data Analysis\n",
        "print(\"Dataset Info:\")\n",
        "df.info()\n",
        "print(\"\\nSummary Statistics:\")\n",
        "print(df.describe())\n",
        "print(\"\\nMissing Values:\")\n",
        "print(df.isna().sum())\n",
        "\n",
        "# Handling Missing Data\n",
        "df['Rating'].fillna(df['Rating'].median(), inplace=True)\n",
        "df['Customer_Age'].fillna(df['Customer_Age'].median(), inplace=True)\n",
        "df['Review_Text'].fillna(\"No Review\", inplace=True)\n",
        "\n",
        "# Detect and Remove Duplicates\n",
        "df.drop_duplicates(inplace=True)\n",
        "\n",
        "# Handle Inconsistent Data\n",
        "# Ensure Ratings are between 1-5\n",
        "df['Rating'] = df['Rating'].clip(1, 5)\n",
        "\n",
        "# Detect and Handle Outliers\n",
        "for col in ['Package_Price', 'Rating']:\n",
        "    if col in df.columns:\n",
        "        q1 = df[col].quantile(0.25)\n",
        "        q3 = df[col].quantile(0.75)\n",
        "        iqr = q3 - q1\n",
        "        lower_bound = q1 - 1.5 * iqr\n",
        "        upper_bound = q3 + 1.5 * iqr\n",
        "        df[col] = np.where(df[col] < lower_bound, lower_bound, df[col])\n",
        "        df[col] = np.where(df[col] > upper_bound, upper_bound, df[col])\n",
        "\n",
        "# Standardize and Normalize Data\n",
        "scaler = MinMaxScaler()\n",
        "for col in ['Package_Price', 'Customer_Age']:\n",
        "    if col in df.columns:\n",
        "        df[[col]] = scaler.fit_transform(df[[col]])\n",
        "\n",
        "# Convert categorical variables to numerical\n",
        "encoder = LabelEncoder()\n",
        "categorical_cols = df.select_dtypes(include=['object']).columns\n",
        "for col in categorical_cols:\n",
        "    df[col] = encoder.fit_transform(df[col])\n",
        "\n",
        "# Data Validation\n",
        "print(\"\\nFinal Missing Values:\")\n",
        "print(df.isna().sum())\n",
        "print(\"\\nFinal Duplicates:\", df.duplicated().sum())\n",
        "print(\"\\nData Types:\")\n",
        "print(df.dtypes)\n",
        "\n",
        "# Save the cleaned dataset\n",
        "df.to_csv(\"cleaned_travel_reviews_dataset.csv\", index=False)"
      ]
    },
    {
      "cell_type": "code",
      "source": [],
      "metadata": {
        "id": "TxJbrcdadjrE"
      },
      "execution_count": null,
      "outputs": []
    }
  ]
}