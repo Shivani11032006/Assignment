{
  "nbformat": 4,
  "nbformat_minor": 0,
  "metadata": {
    "colab": {
      "provenance": [],
      "authorship_tag": "ABX9TyN6EIaPiSd8ZjNnlkZdgfHK",
      "include_colab_link": true
    },
    "kernelspec": {
      "name": "python3",
      "display_name": "Python 3"
    },
    "language_info": {
      "name": "python"
    }
  },
  "cells": [
    {
      "cell_type": "markdown",
      "metadata": {
        "id": "view-in-github",
        "colab_type": "text"
      },
      "source": [
        "<a href=\"https://colab.research.google.com/github/Shivani11032006/Assignment/blob/main/20-01-25.ipynb\" target=\"_parent\"><img src=\"https://colab.research.google.com/assets/colab-badge.svg\" alt=\"Open In Colab\"/></a>"
      ]
    },
    {
      "cell_type": "code",
      "execution_count": 4,
      "metadata": {
        "colab": {
          "base_uri": "https://localhost:8080/"
        },
        "id": "FP1Wh7MmjRwd",
        "outputId": "278edc72-50b5-49f3-eb80-303f808735c2"
      },
      "outputs": [
        {
          "output_type": "stream",
          "name": "stdout",
          "text": [
            "<class 'pandas.core.frame.DataFrame'>\n",
            "RangeIndex: 10 entries, 0 to 9\n",
            "Data columns (total 9 columns):\n",
            " #   Column           Non-Null Count  Dtype \n",
            "---  ------           --------------  ----- \n",
            " 0   Product_ID       10 non-null     int64 \n",
            " 1   Product_Name     10 non-null     object\n",
            " 2   Region           10 non-null     object\n",
            " 3   Marketing_Spend  10 non-null     int64 \n",
            " 4   Sales            10 non-null     int64 \n",
            " 5   Effectiveness    10 non-null     int64 \n",
            " 6   Side_Effects     10 non-null     int64 \n",
            " 7   Age_Group        10 non-null     object\n",
            " 8   Trial_Period     10 non-null     object\n",
            "dtypes: int64(5), object(4)\n",
            "memory usage: 852.0+ bytes\n"
          ]
        },
        {
          "output_type": "execute_result",
          "data": {
            "text/plain": [
              "(   Product_ID Product_Name         Region  Marketing_Spend   Sales  \\\n",
              " 0         101   PainRelief  North America            50000  100000   \n",
              " 1         102     ColdCure         Europe            30000   60000   \n",
              " 2         103  HeadacheFix           Asia            45000   80000   \n",
              " 3         104   PainRelief  North America            52000  110000   \n",
              " 4         105     ColdCure         Europe            28000   55000   \n",
              " \n",
              "    Effectiveness  Side_Effects Age_Group Trial_Period  \n",
              " 0             85             5     20-30     6 months  \n",
              " 1             75             2     30-40     3 months  \n",
              " 2             80             3     40-50     6 months  \n",
              " 3             88             4     50-60    12 months  \n",
              " 4             70             1     30-40     3 months  ,\n",
              " None)"
            ]
          },
          "metadata": {},
          "execution_count": 4
        }
      ],
      "source": [
        "# Load the uploaded file and inspect the data structure to adapt the code accordingly.\n",
        "import pandas as pd\n",
        "\n",
        "# Load the dataset\n",
        "file_path = '/content/Day_13_Pharma_data.csv'\n",
        "data = pd.read_csv(file_path)\n",
        "\n",
        "# Display the first few rows of the dataset to understand its structure\n",
        "data.head(), data.info()\n",
        "\n",
        ""
      ]
    },
    {
      "cell_type": "code",
      "source": [],
      "metadata": {
        "id": "bZWSDbafjSvW"
      },
      "execution_count": null,
      "outputs": []
    }
  ]
}