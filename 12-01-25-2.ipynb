{
  "nbformat": 4,
  "nbformat_minor": 0,
  "metadata": {
    "colab": {
      "provenance": [],
      "authorship_tag": "ABX9TyNrsI9+/EWGj/xZJ9v97pFc",
      "include_colab_link": true
    },
    "kernelspec": {
      "name": "python3",
      "display_name": "Python 3"
    },
    "language_info": {
      "name": "python"
    }
  },
  "cells": [
    {
      "cell_type": "markdown",
      "metadata": {
        "id": "view-in-github",
        "colab_type": "text"
      },
      "source": [
        "<a href=\"https://colab.research.google.com/github/Shivani11032006/Assignment/blob/main/12-01-25-2.ipynb\" target=\"_parent\"><img src=\"https://colab.research.google.com/assets/colab-badge.svg\" alt=\"Open In Colab\"/></a>"
      ]
    },
    {
      "cell_type": "code",
      "execution_count": 2,
      "metadata": {
        "colab": {
          "base_uri": "https://localhost:8080/"
        },
        "id": "5dDMtX_M0G3U",
        "outputId": "9d077088-9245-4559-8166-6d10f93876ed"
      },
      "outputs": [
        {
          "output_type": "stream",
          "name": "stdout",
          "text": [
            "Total Transaction Amount by Account Type:\n",
            "Account_Type\n",
            "Current              15052.57\n",
            "Fixed Deposit        14102.59\n",
            "Recurring Deposit    15179.99\n",
            "Savings               9781.44\n",
            "Name: Transaction_Amount, dtype: float64\n",
            "\n",
            "Average Account Balance by Account Type:\n",
            "Account_Type\n",
            "Current              9893.404000\n",
            "Fixed Deposit        6120.380000\n",
            "Recurring Deposit    7627.283333\n",
            "Savings              9134.110000\n",
            "Name: Account_Balance, dtype: float64\n",
            "\n",
            "Total Number of Transactions by Branch:\n",
            "Branch\n",
            "Central     8\n",
            "Downtown    3\n",
            "Suburban    5\n",
            "Uptown      4\n",
            "dtype: int64\n",
            "\n",
            "Average Transaction Amount by Branch:\n",
            "Branch\n",
            "Central     2942.338750\n",
            "Downtown    3188.703333\n",
            "Suburban    2773.278000\n",
            "Uptown      1786.345000\n",
            "Name: Transaction_Amount, dtype: float64\n"
          ]
        }
      ],
      "source": [
        "import pandas as pd\n",
        "file_path = \"Day_9_banking_data.csv\"\n",
        "data = pd.read_csv(file_path)\n",
        "account_type_group = data.groupby(\"Account_Type\")\n",
        "transaction_sum_by_account = account_type_group[\"Transaction_Amount\"].sum()\n",
        "avg_balance_by_account = account_type_group[\"Account_Balance\"].mean()\n",
        "print(\"Total Transaction Amount by Account Type:\")\n",
        "print(transaction_sum_by_account)\n",
        "print(\"\\nAverage Account Balance by Account Type:\")\n",
        "print(avg_balance_by_account)\n",
        "branch_group = data.groupby(\"Branch\")\n",
        "transaction_count_by_branch = branch_group.size()\n",
        "avg_transaction_by_branch = branch_group[\"Transaction_Amount\"].mean()\n",
        "print(\"\\nTotal Number of Transactions by Branch:\")\n",
        "print(transaction_count_by_branch)\n",
        "print(\"\\nAverage Transaction Amount by Branch:\")\n",
        "print(avg_transaction_by_branch)\n"
      ]
    },
    {
      "cell_type": "code",
      "source": [],
      "metadata": {
        "id": "akTcRmCU0WNO"
      },
      "execution_count": null,
      "outputs": []
    }
  ]
}