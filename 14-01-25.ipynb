{
  "nbformat": 4,
  "nbformat_minor": 0,
  "metadata": {
    "colab": {
      "provenance": [],
      "authorship_tag": "ABX9TyOGaPjq1zymaeDnqvj2Np/0",
      "include_colab_link": true
    },
    "kernelspec": {
      "name": "python3",
      "display_name": "Python 3"
    },
    "language_info": {
      "name": "python"
    }
  },
  "cells": [
    {
      "cell_type": "markdown",
      "metadata": {
        "id": "view-in-github",
        "colab_type": "text"
      },
      "source": [
        "<a href=\"https://colab.research.google.com/github/Shivani11032006/Assignment/blob/main/14-01-25.ipynb\" target=\"_parent\"><img src=\"https://colab.research.google.com/assets/colab-badge.svg\" alt=\"Open In Colab\"/></a>"
      ]
    },
    {
      "cell_type": "code",
      "execution_count": 1,
      "metadata": {
        "colab": {
          "base_uri": "https://localhost:8080/"
        },
        "id": "ACl6F3ghwE-Z",
        "outputId": "0860fada-f63e-44ff-ecfc-8c27a35c0ef8"
      },
      "outputs": [
        {
          "output_type": "stream",
          "name": "stdout",
          "text": [
            "Top 10 rows sorted by Account_Balance:\n",
            "          Date       Account_Type    Branch Transaction_Type  \\\n",
            "15  2023-01-03            Savings  Suburban   Service Charge   \n",
            "8   2023-01-20  Recurring Deposit  Downtown   Service Charge   \n",
            "2   2023-01-10            Current    Uptown     Loan Payment   \n",
            "7   2023-01-09            Current   Central     Loan Payment   \n",
            "17  2023-01-07            Current   Central     Loan Payment   \n",
            "1   2023-01-16            Current    Uptown       Withdrawal   \n",
            "19  2023-01-17            Savings   Central          Deposit   \n",
            "18  2023-01-12  Recurring Deposit  Suburban   Service Charge   \n",
            "16  2023-01-02      Fixed Deposit   Central          Deposit   \n",
            "14  2023-01-01      Fixed Deposit  Downtown       Withdrawal   \n",
            "\n",
            "    Transaction_Amount  Account_Balance  \n",
            "15             3350.32         12836.51  \n",
            "8              3899.98         12646.56  \n",
            "2              3363.85         12428.67  \n",
            "7              2346.72         10708.85  \n",
            "17             4116.52          9785.64  \n",
            "1               641.43          8908.39  \n",
            "19             4516.52          8789.19  \n",
            "18             1339.57          8666.74  \n",
            "16             4421.57          8330.40  \n",
            "14             4136.54          8175.08  \n",
            "\n",
            "DataFrame with Transaction_Amount ranking within each Branch:\n",
            "          Date       Account_Type    Branch Transaction_Type  \\\n",
            "0   2023-01-19      Fixed Deposit   Central     Loan Payment   \n",
            "1   2023-01-16            Current    Uptown       Withdrawal   \n",
            "2   2023-01-10            Current    Uptown     Loan Payment   \n",
            "3   2023-01-18            Savings    Uptown     Loan Payment   \n",
            "4   2023-01-14  Recurring Deposit  Suburban     Loan Payment   \n",
            "5   2023-01-06            Current  Suburban   Service Charge   \n",
            "6   2023-01-04  Recurring Deposit   Central   Service Charge   \n",
            "7   2023-01-09            Current   Central     Loan Payment   \n",
            "8   2023-01-20  Recurring Deposit  Downtown   Service Charge   \n",
            "9   2023-01-11      Fixed Deposit  Downtown          Deposit   \n",
            "10  2023-01-13  Recurring Deposit   Central          Deposit   \n",
            "11  2023-01-08      Fixed Deposit  Suburban   Service Charge   \n",
            "12  2023-01-15      Fixed Deposit    Uptown   Service Charge   \n",
            "13  2023-01-05  Recurring Deposit   Central     Loan Payment   \n",
            "14  2023-01-01      Fixed Deposit  Downtown       Withdrawal   \n",
            "15  2023-01-03            Savings  Suburban   Service Charge   \n",
            "16  2023-01-02      Fixed Deposit   Central          Deposit   \n",
            "17  2023-01-07            Current   Central     Loan Payment   \n",
            "18  2023-01-12  Recurring Deposit  Suburban   Service Charge   \n",
            "19  2023-01-17            Savings   Central          Deposit   \n",
            "\n",
            "    Transaction_Amount  Account_Balance  Transaction_Amount_Rank  \n",
            "0               985.51          6839.59                      7.0  \n",
            "1               641.43          8908.39                      4.0  \n",
            "2              3363.85         12428.67                      1.0  \n",
            "3              1914.60          5776.63                      2.0  \n",
            "4              2788.57          4779.04                      3.0  \n",
            "5              4584.05          7635.47                      1.0  \n",
            "6              1621.82          6465.79                      6.0  \n",
            "7              2346.72         10708.85                      5.0  \n",
            "8              3899.98         12646.56                      2.0  \n",
            "9              1529.59          2592.16                      3.0  \n",
            "10              846.41          6443.14                      8.0  \n",
            "11             1803.88          6560.58                      4.0  \n",
            "12             1225.50          4224.47                      3.0  \n",
            "13             4683.64          6762.43                      1.0  \n",
            "14             4136.54          8175.08                      1.0  \n",
            "15             3350.32         12836.51                      2.0  \n",
            "16             4421.57          8330.40                      3.0  \n",
            "17             4116.52          9785.64                      4.0  \n",
            "18             1339.57          8666.74                      5.0  \n",
            "19             4516.52          8789.19                      2.0  \n"
          ]
        }
      ],
      "source": [
        "import pandas as pd\n",
        "data = pd.read_csv(\"/content/Day_11_banking_data.csv\")\n",
        "df = pd.DataFrame(data)\n",
        "sorted_df = df.sort_values(by='Account_Balance', ascending=False)\n",
        "print(\"Top 10 rows sorted by Account_Balance:\")\n",
        "print(sorted_df.head(10))\n",
        "df['Transaction_Amount_Rank'] = df.groupby('Branch')['Transaction_Amount'].rank(ascending=False, method='min')\n",
        "print(\"\\nDataFrame with Transaction_Amount ranking within each Branch:\")\n",
        "print(df)\n"
      ]
    },
    {
      "cell_type": "code",
      "source": [],
      "metadata": {
        "id": "WgeQyyIDwJ0s"
      },
      "execution_count": null,
      "outputs": []
    }
  ]
}