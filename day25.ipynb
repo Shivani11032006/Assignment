{
  "nbformat": 4,
  "nbformat_minor": 0,
  "metadata": {
    "colab": {
      "provenance": [],
      "authorship_tag": "ABX9TyPN8VQo4BaU/HPaRt1hqk3d",
      "include_colab_link": true
    },
    "kernelspec": {
      "name": "python3",
      "display_name": "Python 3"
    },
    "language_info": {
      "name": "python"
    }
  },
  "cells": [
    {
      "cell_type": "markdown",
      "metadata": {
        "id": "view-in-github",
        "colab_type": "text"
      },
      "source": [
        "<a href=\"https://colab.research.google.com/github/Shivani11032006/Assignment/blob/main/day25.ipynb\" target=\"_parent\"><img src=\"https://colab.research.google.com/assets/colab-badge.svg\" alt=\"Open In Colab\"/></a>"
      ]
    },
    {
      "cell_type": "code",
      "execution_count": 6,
      "metadata": {
        "colab": {
          "base_uri": "https://localhost:8080/"
        },
        "id": "scVew0AXkZOT",
        "outputId": "22b39a0e-6a0b-466d-e873-59a128bed790"
      },
      "outputs": [
        {
          "output_type": "execute_result",
          "data": {
            "text/plain": [
              "({'Building_Height': 49.81132446197602,\n",
              "  'Material_Quality_Index': 10.329643633921751,\n",
              "  'Labor_Cost': 0.5263638589028599,\n",
              "  'Concrete_Strength': 20.202408657818676,\n",
              "  'Foundation_Depth': 30.13595831298439},\n",
              " 0.9998023074199777,\n",
              " 0.9997317029271126,\n",
              "                   Feature       VIF\n",
              " 0         Building_Height  1.047164\n",
              " 1  Material_Quality_Index  1.048067\n",
              " 2              Labor_Cost  1.054086\n",
              " 3       Concrete_Strength  1.019701\n",
              " 4        Foundation_Depth  1.040594,\n",
              " count    20.000000\n",
              " mean     -1.086514\n",
              " std      10.873624\n",
              " min     -25.577854\n",
              " 25%      -7.278069\n",
              " 50%      -0.809982\n",
              " 75%       7.060073\n",
              " max      17.666316\n",
              " Name: Construction_Cost, dtype: float64)"
            ]
          },
          "metadata": {},
          "execution_count": 6
        }
      ],
      "source": [
        "# Reload the latest dataset\n",
        "file_path = \"/content/Civil_Engineering_Regression_Dataset.csv\"\n",
        "df = pd.read_csv(file_path)\n",
        "\n",
        "# Drop Project_ID if it exists (not useful for regression)\n",
        "if \"Project_ID\" in df.columns:\n",
        "    df.drop(columns=[\"Project_ID\"], inplace=True)\n",
        "\n",
        "# Define independent (X) and dependent (y) variables for multiple regression\n",
        "X_multi = df[[\"Building_Height\", \"Material_Quality_Index\", \"Labor_Cost\", \"Concrete_Strength\", \"Foundation_Depth\"]]\n",
        "y_multi = df[\"Construction_Cost\"]\n",
        "\n",
        "# Split the data into training and testing sets (80% train, 20% test)\n",
        "X_train_multi, X_test_multi, y_train_multi, y_test_multi = train_test_split(X_multi, y_multi, test_size=0.2, random_state=42)\n",
        "\n",
        "# Train multiple linear regression model\n",
        "multi_model = LinearRegression()\n",
        "multi_model.fit(X_train_multi, y_train_multi)\n",
        "\n",
        "# Get regression coefficients\n",
        "coefficients_multi = dict(zip(X_multi.columns, multi_model.coef_))\n",
        "\n",
        "# Residual Analysis\n",
        "y_train_pred = multi_model.predict(X_train_multi)\n",
        "y_test_pred = multi_model.predict(X_test_multi)\n",
        "train_residuals = y_train_multi - y_train_pred\n",
        "test_residuals = y_test_multi - y_test_pred\n",
        "\n",
        "# Compute R-squared and Adjusted R-squared\n",
        "r2_multiple = r2_score(y_test_multi, y_test_pred)\n",
        "n = X_test_multi.shape[0]  # Number of observations\n",
        "p = X_test_multi.shape[1]  # Number of predictors\n",
        "adjusted_r2_multiple = 1 - ((1 - r2_multiple) * (n - 1) / (n - p - 1))\n",
        "\n",
        "# Compute VIF for multicollinearity detection\n",
        "X_vif = sm.add_constant(X_multi)  # Add constant for statsmodels\n",
        "vif_data = pd.DataFrame()\n",
        "vif_data[\"Feature\"] = X_multi.columns\n",
        "vif_data[\"VIF\"] = [variance_inflation_factor(X_vif.values, i + 1) for i in range(len(X_multi.columns))]\n",
        "\n",
        "# Return results\n",
        "coefficients_multi, r2_multiple, adjusted_r2_multiple, vif_data, test_residuals.describe()\n"
      ]
    },
    {
      "cell_type": "code",
      "source": [],
      "metadata": {
        "id": "dD8_ABjZknMN"
      },
      "execution_count": null,
      "outputs": []
    }
  ]
}